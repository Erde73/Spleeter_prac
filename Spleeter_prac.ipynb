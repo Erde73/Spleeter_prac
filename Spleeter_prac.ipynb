{
  "nbformat": 4,
  "nbformat_minor": 0,
  "metadata": {
    "colab": {
      "name": "Spleeter_prac.ipynb",
      "provenance": [],
      "collapsed_sections": []
    },
    "kernelspec": {
      "name": "python3",
      "display_name": "Python 3"
    },
    "language_info": {
      "name": "python"
    }
  },
  "cells": [
    {
      "cell_type": "code",
      "metadata": {
        "colab": {
          "base_uri": "https://localhost:8080/"
        },
        "id": "-Q1rVaA6K_nT",
        "outputId": "74034682-e5bb-48a4-94dd-eccc064303db"
      },
      "source": [
        "from google.colab import drive\n",
        "drive.mount('/content/drive')"
      ],
      "execution_count": null,
      "outputs": [
        {
          "output_type": "stream",
          "name": "stdout",
          "text": [
            "Mounted at /content/drive\n"
          ]
        }
      ]
    },
    {
      "cell_type": "code",
      "metadata": {
        "id": "_h0wJ1RaLDeU"
      },
      "source": [
        "!apt install ffmpeg"
      ],
      "execution_count": null,
      "outputs": []
    },
    {
      "cell_type": "code",
      "metadata": {
        "id": "ZNWmKbAhMmXe"
      },
      "source": [
        "pip install spleeter"
      ],
      "execution_count": null,
      "outputs": []
    },
    {
      "cell_type": "code",
      "metadata": {
        "id": "FXaqcCTKM1wh"
      },
      "source": [
        "from IPython.display import Audio"
      ],
      "execution_count": null,
      "outputs": []
    },
    {
      "cell_type": "code",
      "metadata": {
        "id": "H1cjy1wnNzDY"
      },
      "source": [
        "%cd /content/drive/MyDrive/spleeter_test/\n",
        "\n",
        "!mkdir spleeter_test_sub"
      ],
      "execution_count": null,
      "outputs": []
    },
    {
      "cell_type": "code",
      "metadata": {
        "id": "JbH7eSpBPEQX"
      },
      "source": [
        "%cd /content/drive/MyDrive/spleeter_test/spleeter_test_sub/\n",
        "!ls"
      ],
      "execution_count": null,
      "outputs": []
    },
    {
      "cell_type": "code",
      "metadata": {
        "id": "U6QcH3r0Qeg2"
      },
      "source": [
        "from spleeter.separator import Separator\n",
        "import os"
      ],
      "execution_count": null,
      "outputs": []
    },
    {
      "cell_type": "code",
      "metadata": {
        "id": "ucPyZIPTQlD9"
      },
      "source": [
        "# 出力結果の保存場所をあらかじめ作っておく\n",
        "for i in (2, 4, 5):  # 2音源、4音源、5音源\n",
        "    outdir_path = './output/' + str(i) + 'stems'\n",
        "    os.makedirs(outdir_path, exist_ok=True)"
      ],
      "execution_count": null,
      "outputs": []
    },
    {
      "cell_type": "code",
      "metadata": {
        "id": "h9OgCkpjRK7P"
      },
      "source": [
        "input_audio = \"/content/drive/MyDrive/spleeter_test/spleeter_test_sub/01 I'm Still Standing (Glee Cast Version).m4a\""
      ],
      "execution_count": null,
      "outputs": []
    },
    {
      "cell_type": "code",
      "metadata": {
        "id": "BmNfkdhbRhZn"
      },
      "source": [
        "# ボーカルとそれ以外に分離する(2音源)\n",
        "separator_2stem = Separator('spleeter:2stems')\n",
        "separator_2stem.separate_to_file(input_audio, \"./output/2stems\")\n",
        "\n",
        "# ボーカル、ベース、ドラムとそれ以外に分離する(4音源)\n",
        "separator_4stem = Separator('spleeter:4stems')\n",
        "separator_4stem.separate_to_file(input_audio, \"./output/4stems\")\n",
        "\n",
        "# ボーカル、ピアノ、ベース、ドラムとそれ以外に分離する(5音源)\n",
        "separator_5stem = Separator('spleeter:5stems')\n",
        "separator_5stem.separate_to_file(input_audio, \"./output/5stems\")"
      ],
      "execution_count": null,
      "outputs": []
    }
  ]
}